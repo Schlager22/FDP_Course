{
  "nbformat": 4,
  "nbformat_minor": 0,
  "metadata": {
    "colab": {
      "provenance": [],
      "authorship_tag": "ABX9TyO6UPRRtedu255R4TKJvaiz",
      "include_colab_link": true
    },
    "kernelspec": {
      "name": "python3",
      "display_name": "Python 3"
    },
    "language_info": {
      "name": "python"
    }
  },
  "cells": [
    {
      "cell_type": "markdown",
      "metadata": {
        "id": "view-in-github",
        "colab_type": "text"
      },
      "source": [
        "<a href=\"https://colab.research.google.com/github/Schlager22/FDP_Course/blob/main/Catch_Rate_Functions.ipynb\" target=\"_parent\"><img src=\"https://colab.research.google.com/assets/colab-badge.svg\" alt=\"Open In Colab\"/></a>"
      ]
    },
    {
      "cell_type": "code",
      "execution_count": null,
      "metadata": {
        "colab": {
          "base_uri": "https://localhost:8080/"
        },
        "id": "8QL4uVLbbz6W",
        "outputId": "08311e7a-edd4-468f-b53c-6bf5730ad4f1"
      },
      "outputs": [
        {
          "output_type": "stream",
          "name": "stdout",
          "text": [
            "A.J. Brown has a catch rate of 0.6068965517241379\n",
            "CeeDee Lamb has a catch rate of 0.6858974358974359\n",
            "Justin Jefferson has a catch rate of 0.6956521739130435\n"
          ]
        }
      ],
      "source": [
        "# Catch Rate Task (2022)\n",
        "players = [{\n",
        "   'name': 'A.J. Brown',\n",
        "   'catches': 88,\n",
        "   'targets': 145\n",
        "   },\n",
        "   {\n",
        "   'name': 'CeeDee Lamb',\n",
        "   'catches': 107,\n",
        "   'targets': 156\n",
        "   },\n",
        "   {\n",
        "   'name': 'Justin Jefferson',\n",
        "   'catches': 128,\n",
        "   'targets': 184\n",
        "   },\n",
        "]\n",
        "\n",
        "for player in players:\n",
        "    name = player[\"name\"]\n",
        "    catches = player[\"catches\"]\n",
        "    targets = player[\"targets\"]\n",
        "    catch_rate = catches/targets\n",
        "    print(name + ' has a catch rate of ' + str(catch_rate))"
      ]
    },
    {
      "cell_type": "code",
      "source": [
        "# Useless function\n",
        "def calculate_fantasy_points[]:\n",
        "  return"
      ],
      "metadata": {
        "id": "S8iVrg3bfpTK"
      },
      "execution_count": null,
      "outputs": []
    },
    {
      "cell_type": "code",
      "source": [
        "player_a_stats = {\n",
        "    'passing_yds': 250,\n",
        "    'rushing_yds': 40,\n",
        "    'pass_td': 2,\n",
        "    'rush_td': 1,\n",
        "    'intercepts': 0\n",
        "    }\n"
      ],
      "metadata": {
        "id": "58zrzWRygXWm"
      },
      "execution_count": 4,
      "outputs": []
    },
    {
      "cell_type": "code",
      "source": [
        "# Cumbersome way to get all of the correct stats\n",
        "\n",
        "passing_yds = player_a_stats['passing_yds']\n",
        "rushing_yds = player_a_stats['rushing_yds']\n",
        "pass_td = player_a_stats['pass_td']\n",
        "rush_td = player_a_stats['rush_td']\n",
        "intercepts = player_a_stats['intercepts']\n"
      ],
      "metadata": {
        "id": "Z8OeRoPZhCV8"
      },
      "execution_count": 2,
      "outputs": []
    },
    {
      "cell_type": "code",
      "source": [
        "player_b_stats = {\n",
        "    'passing_yds': 320,\n",
        "    'rushing_yds': 5,\n",
        "    'pass_td': 3,\n",
        "    'rush_td': 0,\n",
        "    'intercepts': 0\n",
        "}"
      ],
      "metadata": {
        "id": "0vIjcpAohtFq"
      },
      "execution_count": 3,
      "outputs": []
    },
    {
      "cell_type": "code",
      "source": [
        "def calculate_fantasy_points(player_stats):\n",
        "  \"\"\"\n",
        "  Function that calculates fantasy points given a player_stats dictionary\n",
        "  \"\"\"\n",
        "  passing_yds = player_stats['passing_yds']\n",
        "  rushing_yds = player_stats['rushing_yds']\n",
        "  pass_td = player_stats['pass_td']\n",
        "  rush_td = player_stats['rush_td']\n",
        "  intercepts = player_stats['intercepts']\n",
        "\n",
        "  return passing_yds/25 + rushing_yds/10 + pass_td*4 + rush_td*6 + intercepts*-2"
      ],
      "metadata": {
        "id": "3Y5hfEnRipOS"
      },
      "execution_count": 8,
      "outputs": []
    },
    {
      "cell_type": "code",
      "source": [
        "calculate_fantasy_points(player_a_stats)"
      ],
      "metadata": {
        "colab": {
          "base_uri": "https://localhost:8080/"
        },
        "id": "zCvBCiOck7L7",
        "outputId": "2fb61b8e-aae4-40d9-f4e3-650c0511700a"
      },
      "execution_count": 9,
      "outputs": [
        {
          "output_type": "execute_result",
          "data": {
            "text/plain": [
              "28.0"
            ]
          },
          "metadata": {},
          "execution_count": 9
        }
      ]
    },
    {
      "cell_type": "code",
      "source": [
        "calculate_fantasy_points(player_b_stats)"
      ],
      "metadata": {
        "colab": {
          "base_uri": "https://localhost:8080/"
        },
        "id": "iMV5GAJNlAJm",
        "outputId": "1a15fc73-44f0-4e2c-c65b-05b77dd85834"
      },
      "execution_count": 10,
      "outputs": [
        {
          "output_type": "execute_result",
          "data": {
            "text/plain": [
              "25.3"
            ]
          },
          "metadata": {},
          "execution_count": 10
        }
      ]
    },
    {
      "cell_type": "code",
      "source": [
        "# Take function values and save to variable\n",
        "\n",
        "def calc_catch_rate(catches, targets):\n",
        "  return catches/targets\n",
        ""
      ],
      "metadata": {
        "id": "GoepDHTolR9A"
      },
      "execution_count": 11,
      "outputs": []
    },
    {
      "cell_type": "code",
      "source": [
        "player_a = {\n",
        "    'catches':10,\n",
        "    'targets':15\n",
        "}\n",
        "\n",
        "catch_rate = calc_catch_rate(player_a['catches'], player_a['targets'])"
      ],
      "metadata": {
        "id": "NoochXAjljmF"
      },
      "execution_count": 12,
      "outputs": []
    },
    {
      "cell_type": "code",
      "source": [
        "catch_rate"
      ],
      "metadata": {
        "colab": {
          "base_uri": "https://localhost:8080/"
        },
        "id": "QVXSFcxemHBJ",
        "outputId": "9a2f152b-ce2c-48b7-af58-aad829228ceb"
      },
      "execution_count": 13,
      "outputs": [
        {
          "output_type": "execute_result",
          "data": {
            "text/plain": [
              "0.6666666666666666"
            ]
          },
          "metadata": {},
          "execution_count": 13
        }
      ]
    },
    {
      "cell_type": "code",
      "source": [
        "# Conditional Statements (Control logic of your code)\n",
        "\n",
        "f_pts = 10\n",
        "position = 'TE'\n",
        "player_name = 'Mike Gesicki'\n",
        "\n",
        "if f_pts > 20 and position =='TE' and player_name != 'Travis Kelce':\n",
        "  print('That player had a big game!')\n",
        "else:\n",
        "    print(\"bust!\")\n",
        "\n"
      ],
      "metadata": {
        "colab": {
          "base_uri": "https://localhost:8080/"
        },
        "id": "CIud0i5gmXZD",
        "outputId": "34e1d7a6-308f-4844-8ccf-2e6825c8c0f8"
      },
      "execution_count": 20,
      "outputs": [
        {
          "output_type": "stream",
          "name": "stdout",
          "text": [
            "bust!\n"
          ]
        }
      ]
    },
    {
      "cell_type": "code",
      "source": [
        "players = [{\n",
        "   'name': 'A.J. Brown',\n",
        "   'catches': 88,\n",
        "   'targets': 145\n",
        "   },\n",
        "   {\n",
        "   'name': 'CeeDee Lamb',\n",
        "   'catches': 107,\n",
        "   'targets': 156\n",
        "   },\n",
        "   {\n",
        "   'name': 'Justin Jefferson',\n",
        "   'catches': 128,\n",
        "   'targets': 184\n",
        "   },\n",
        "]"
      ],
      "metadata": {
        "id": "8Iy3rjJxoZuD"
      },
      "execution_count": 21,
      "outputs": []
    },
    {
      "cell_type": "code",
      "source": [
        "def get_cr(player):\n",
        "  if type(player) is not dict:\n",
        "    print('You need to pass in a dictionary')\n",
        "    return\n",
        "  else:\n",
        "    pass\n",
        "\n",
        "  catches = player['catches']\n",
        "  targets = player['targets']\n",
        "\n",
        "  if catches > targets:\n",
        "    print('Youy cant have more catches than targets!')\n",
        "  else:\n",
        "      pass\n",
        "  catch_rate = catches/targets\n",
        "  return catch_rate\n",
        "\n"
      ],
      "metadata": {
        "id": "cUKflVuWolK8"
      },
      "execution_count": 22,
      "outputs": []
    },
    {
      "cell_type": "code",
      "source": [
        "aj_brown = players[0]\n",
        "aj_brown_cr = get_cr(aj_brown)\n",
        "\n",
        "aj_brown_cr"
      ],
      "metadata": {
        "colab": {
          "base_uri": "https://localhost:8080/"
        },
        "id": "sZn5DuLwvUE_",
        "outputId": "40f6be41-a927-42da-f1e3-4ba3c0b93c61"
      },
      "execution_count": 24,
      "outputs": [
        {
          "output_type": "execute_result",
          "data": {
            "text/plain": [
              "0.6068965517241379"
            ]
          },
          "metadata": {},
          "execution_count": 24
        }
      ]
    },
    {
      "cell_type": "code",
      "source": [
        "# Function running through list\n",
        "for player in players:\n",
        "  catch_rate = get_cr(player)\n",
        "  name = player['name']\n",
        "  print(name + ' had a catch rate of' + str(catch_rate))"
      ],
      "metadata": {
        "colab": {
          "base_uri": "https://localhost:8080/"
        },
        "id": "sqfsmO0Mv-II",
        "outputId": "5f41acbe-6bb1-42e7-996a-4ba9dc9bc341"
      },
      "execution_count": 26,
      "outputs": [
        {
          "output_type": "stream",
          "name": "stdout",
          "text": [
            "A.J. Brown had a catch rate of0.6068965517241379\n",
            "CeeDee Lamb had a catch rate of0.6858974358974359\n",
            "Justin Jefferson had a catch rate of0.6956521739130435\n"
          ]
        }
      ]
    }
  ]
}