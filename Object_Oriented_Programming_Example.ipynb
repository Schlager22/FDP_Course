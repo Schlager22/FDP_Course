{
  "nbformat": 4,
  "nbformat_minor": 0,
  "metadata": {
    "colab": {
      "provenance": [],
      "authorship_tag": "ABX9TyMnkpdQGFzMzhq/rgOWQRnH",
      "include_colab_link": true
    },
    "kernelspec": {
      "name": "python3",
      "display_name": "Python 3"
    },
    "language_info": {
      "name": "python"
    }
  },
  "cells": [
    {
      "cell_type": "markdown",
      "metadata": {
        "id": "view-in-github",
        "colab_type": "text"
      },
      "source": [
        "<a href=\"https://colab.research.google.com/github/Schlager22/FDP_Course/blob/main/Object_Oriented_Programming_Example.ipynb\" target=\"_parent\"><img src=\"https://colab.research.google.com/assets/colab-badge.svg\" alt=\"Open In Colab\"/></a>"
      ]
    },
    {
      "cell_type": "code",
      "execution_count": null,
      "metadata": {
        "id": "xsWalkLQn1sy"
      },
      "outputs": [],
      "source": [
        "class Player:\n",
        "\n",
        "    def __init__(self, name, pos, catches, targets):\n",
        "        self.name = name\n",
        "        self.pos = pos\n",
        "        self.catches = catches\n",
        "        self.targets = targets\n",
        "\n",
        "    def catch_rate(self):\n",
        "        return self.catches/self.targets"
      ]
    },
    {
      "cell_type": "code",
      "source": [
        "# Establish a class - Blueprint for an opject\n",
        "# Capitalizing the first letter is a good convention\n",
        "# Method is a function that lives within a class\n",
        "\n",
        "# Self is a specific instance\n",
        "\n",
        "class Player:\n",
        "  def __init__(self, name, pos, catches, targets):\n",
        "    self.name = name\n",
        "    self.pos = pos\n",
        "    self.catches = catches\n",
        "    self.targets = targets\n",
        "\n",
        "  def catch_rate(self):\n",
        "    return self.catches / self.targets\n"
      ],
      "metadata": {
        "id": "2VYtcPhLqsKk"
      },
      "execution_count": 1,
      "outputs": []
    },
    {
      "cell_type": "code",
      "source": [
        "#Create instance of class\n",
        "# Justin Jefferson\n",
        "jj = Player(name='Justin Jefferson', pos='WR', catches=128, targets = 184)"
      ],
      "metadata": {
        "id": "Qmh2pxCUsyzQ"
      },
      "execution_count": 2,
      "outputs": []
    },
    {
      "cell_type": "code",
      "source": [
        "# pull out specific info\n",
        "jj.pos"
      ],
      "metadata": {
        "colab": {
          "base_uri": "https://localhost:8080/",
          "height": 35
        },
        "id": "J7FjwTsVtOan",
        "outputId": "c5bd8d82-ce8d-4930-99bf-89a760447793"
      },
      "execution_count": 4,
      "outputs": [
        {
          "output_type": "execute_result",
          "data": {
            "text/plain": [
              "'WR'"
            ],
            "application/vnd.google.colaboratory.intrinsic+json": {
              "type": "string"
            }
          },
          "metadata": {},
          "execution_count": 4
        }
      ]
    },
    {
      "cell_type": "code",
      "source": [
        "# call methods as well\n",
        "round(jj.catch_rate(), 2)"
      ],
      "metadata": {
        "colab": {
          "base_uri": "https://localhost:8080/"
        },
        "id": "0X_vfoNqtXrG",
        "outputId": "8898d413-5545-479c-9b1a-9e9c78229c88"
      },
      "execution_count": 6,
      "outputs": [
        {
          "output_type": "execute_result",
          "data": {
            "text/plain": [
              "0.7"
            ]
          },
          "metadata": {},
          "execution_count": 6
        }
      ]
    },
    {
      "cell_type": "code",
      "source": [
        "# can add new arguments\n",
        "class Player:\n",
        "\n",
        "    def __init__(self, name, pos, catches, targets, rush_att, rush_yds):\n",
        "        self.name = name\n",
        "        self.pos = pos\n",
        "        self.catches = catches\n",
        "        self.targets = targets\n",
        "        self.rush_att = rush_att\n",
        "        self.rush_yds = rush_yds\n",
        "\n",
        "    def catch_rate(self):\n",
        "        return self.catches/self.targets\n",
        "\n",
        "    def ypc(self):\n",
        "      return self.rush_yds / self.rush_att\n",
        "\n",
        "    # Create Efficiency Metrics Method referencing other methods\n",
        "    def efficiency(self):\n",
        "      return {\n",
        "          'catch_rate':self.catch_rate(),\n",
        "          'ypc':self.ypc()\n",
        "      }"
      ],
      "metadata": {
        "id": "YNP2XpLStsqr"
      },
      "execution_count": 13,
      "outputs": []
    },
    {
      "cell_type": "code",
      "source": [
        "ceedee = Player('CeeDee Lamb', 'WR', 107, 156, 10, 82)\n",
        "\n",
        "print(ceedee.catch_rate())\n",
        "print(ceedee.ypc())"
      ],
      "metadata": {
        "colab": {
          "base_uri": "https://localhost:8080/"
        },
        "id": "-NCNDSc9uFzi",
        "outputId": "1a284303-0253-497e-d142-cc646c3b68ae"
      },
      "execution_count": 14,
      "outputs": [
        {
          "output_type": "stream",
          "name": "stdout",
          "text": [
            "0.6858974358974359\n",
            "8.2\n"
          ]
        }
      ]
    },
    {
      "cell_type": "code",
      "source": [
        "print(ceedee.efficiency())"
      ],
      "metadata": {
        "colab": {
          "base_uri": "https://localhost:8080/"
        },
        "id": "kVmcZHhdu8G-",
        "outputId": "3f6d111d-3d75-4556-dd11-d935c7402443"
      },
      "execution_count": 15,
      "outputs": [
        {
          "output_type": "stream",
          "name": "stdout",
          "text": [
            "{'catch_rate': 0.6858974358974359, 'ypc': 8.2}\n"
          ]
        }
      ]
    }
  ]
}