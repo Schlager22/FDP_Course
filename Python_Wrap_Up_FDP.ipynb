{
  "nbformat": 4,
  "nbformat_minor": 0,
  "metadata": {
    "colab": {
      "provenance": [],
      "authorship_tag": "ABX9TyNorYJoTo9nkBbVHWN/1KYu",
      "include_colab_link": true
    },
    "kernelspec": {
      "name": "python3",
      "display_name": "Python 3"
    },
    "language_info": {
      "name": "python"
    }
  },
  "cells": [
    {
      "cell_type": "markdown",
      "metadata": {
        "id": "view-in-github",
        "colab_type": "text"
      },
      "source": [
        "<a href=\"https://colab.research.google.com/github/Schlager22/FDP_Course/blob/main/Python_Wrap_Up_FDP.ipynb\" target=\"_parent\"><img src=\"https://colab.research.google.com/assets/colab-badge.svg\" alt=\"Open In Colab\"/></a>"
      ]
    },
    {
      "cell_type": "code",
      "execution_count": 1,
      "metadata": {
        "colab": {
          "base_uri": "https://localhost:8080/"
        },
        "id": "MjNuEMhJwde0",
        "outputId": "073fed49-4c61-410f-cff7-f2e0cb0bad1c"
      },
      "outputs": [
        {
          "output_type": "stream",
          "name": "stdout",
          "text": [
            "['Lamar', 'Jackson', 'left', 'end', 'for', '10', 'yards']\n"
          ]
        }
      ],
      "source": [
        "# Split Strings\n",
        "# May use this for splitting play descriptions\n",
        "# Default delimiter is ''\n",
        "our_string = 'Lamar Jackson left end for 10 yards'\n",
        "print(our_string.split(' '))"
      ]
    },
    {
      "cell_type": "code",
      "source": [
        "# Join is the oppo of a split\n",
        "# Use delimiter at beginning\n",
        "print(' '.join(['Lamar', 'Jackson', 'left', 'end', 'for', '10', 'yards']))"
      ],
      "metadata": {
        "colab": {
          "base_uri": "https://localhost:8080/"
        },
        "id": "qsLKlHEBxAiy",
        "outputId": "43972d85-8d81-4a6b-d42a-348509d955c4"
      },
      "execution_count": 4,
      "outputs": [
        {
          "output_type": "stream",
          "name": "stdout",
          "text": [
            "Lamar Jackson left end for 10 yards\n"
          ]
        }
      ]
    },
    {
      "cell_type": "code",
      "source": [
        "first_name = 'Lamar'\n",
        "last_name = 'Jackson'\n",
        "\n",
        "# Curly bracers allow us to pass in data after the fact\n",
        "our_string = '{} {} left end for 10 yards'.format(first_name, last_name)\n",
        "print(our_string)\n",
        "our_string = '{0} {1} left end for 10 yards'.format(first_name, last_name)\n",
        "print(our_string)\n",
        "our_string = '{first_name} {last_name} left end for 10 yards'.format(first_name=first_name, last_name=last_name)\n",
        "print(our_string)"
      ],
      "metadata": {
        "colab": {
          "base_uri": "https://localhost:8080/"
        },
        "id": "tghUWThRxNNM",
        "outputId": "758d87ac-445e-4c8c-eb4e-c1c41989b321"
      },
      "execution_count": 5,
      "outputs": [
        {
          "output_type": "stream",
          "name": "stdout",
          "text": [
            "Lamar Jackson left end for 10 yards\n",
            "Lamar Jackson left end for 10 yards\n",
            "Lamar Jackson left end for 10 yards\n"
          ]
        }
      ]
    },
    {
      "cell_type": "code",
      "source": [
        "first_nm = our_string.split()[0]\n",
        "last_nm = our_string.split()[1]\n",
        "\n",
        "full_name = first_nm + ' ' + last_nm\n",
        "full_name"
      ],
      "metadata": {
        "colab": {
          "base_uri": "https://localhost:8080/",
          "height": 35
        },
        "id": "sVyDDBh1xzt5",
        "outputId": "75423221-a05a-43b7-e9ed-9a561c7283ea"
      },
      "execution_count": 7,
      "outputs": [
        {
          "output_type": "execute_result",
          "data": {
            "text/plain": [
              "'Lamar Jackson'"
            ],
            "application/vnd.google.colaboratory.intrinsic+json": {
              "type": "string"
            }
          },
          "metadata": {},
          "execution_count": 7
        }
      ]
    },
    {
      "cell_type": "code",
      "source": [
        "# Lower and Upper"
      ],
      "metadata": {
        "id": "ZNzZaLz_yKYa"
      },
      "execution_count": null,
      "outputs": []
    },
    {
      "cell_type": "code",
      "source": [
        "# F Stings (Concise way of doing this)\n",
        "fn = 'Lamar'\n",
        "ln = 'Jackson'\n",
        "yds = 40\n",
        "\n",
        "print(f'{fn} {fn} left end for {yds + 10} yards')"
      ],
      "metadata": {
        "colab": {
          "base_uri": "https://localhost:8080/"
        },
        "id": "fKVLwAUuykwM",
        "outputId": "0dd4e418-7d17-4e34-cc88-916b2af285d5"
      },
      "execution_count": 9,
      "outputs": [
        {
          "output_type": "stream",
          "name": "stdout",
          "text": [
            "Lamar Lamar left end for 50 yards\n"
          ]
        }
      ]
    },
    {
      "cell_type": "code",
      "source": [
        "# Add Data to Dictionary\n",
        "fantasy_data = {\n",
        "    'player_name': 'Kenneth Walker',\n",
        "    'rush_yds': 1050\n",
        "}\n",
        "\n",
        "fantasy_data['rush_td'] = 9"
      ],
      "metadata": {
        "id": "6GkGFOgkz3Fx"
      },
      "execution_count": 10,
      "outputs": []
    },
    {
      "cell_type": "code",
      "source": [
        "fantasy_data"
      ],
      "metadata": {
        "colab": {
          "base_uri": "https://localhost:8080/"
        },
        "id": "3lTN17af0LmX",
        "outputId": "43716a35-8d89-43a2-ab12-f8116b6c4a0d"
      },
      "execution_count": 11,
      "outputs": [
        {
          "output_type": "execute_result",
          "data": {
            "text/plain": [
              "{'player_name': 'Kenneth Walker', 'rush_yds': 1050, 'rush_td': 9}"
            ]
          },
          "metadata": {},
          "execution_count": 11
        }
      ]
    },
    {
      "cell_type": "code",
      "source": [
        "# Get (Better way to grab values from dictionary)\n",
        "player = {\n",
        " 'name': 'Justin Jefferson',\n",
        " 'catches': 128,\n",
        " 'yds': 256\n",
        "}\n",
        "\n",
        "yds = player.get('yds', 0)\n",
        "catches = player.get('catches', 0)\n",
        "\n",
        "print(yds, catches)\n"
      ],
      "metadata": {
        "colab": {
          "base_uri": "https://localhost:8080/"
        },
        "id": "Akw2RDbP0QKI",
        "outputId": "57dce384-3c91-4da1-9c89-e23308c7f04c"
      },
      "execution_count": 15,
      "outputs": [
        {
          "output_type": "stream",
          "name": "stdout",
          "text": [
            "256 128\n"
          ]
        }
      ]
    },
    {
      "cell_type": "code",
      "source": [
        "# Items method (Great for iterating over dictionary)\n",
        "#Official stats from 2022\n",
        "\n",
        "player = {\n",
        " 'name': 'Justin Jefferson',\n",
        " 'catches': 128\n",
        "}\n",
        "\n",
        "# Need 2 placeholders\n",
        "for k, v in player.items():\n",
        "    #print('{0}: {1}'.format(k, v))\n",
        "    print(k, ':', v)"
      ],
      "metadata": {
        "colab": {
          "base_uri": "https://localhost:8080/"
        },
        "id": "c_cY_zKj1I4w",
        "outputId": "bf6d5233-1d41-4bf5-fecc-87973832075b"
      },
      "execution_count": 17,
      "outputs": [
        {
          "output_type": "stream",
          "name": "stdout",
          "text": [
            "name : Justin Jefferson\n",
            "catches : 128\n"
          ]
        }
      ]
    },
    {
      "cell_type": "code",
      "source": [
        "# Append\n",
        "listy = [1,2,3]\n",
        "listy.append(4)\n",
        "listy"
      ],
      "metadata": {
        "colab": {
          "base_uri": "https://localhost:8080/"
        },
        "id": "9a__c5sO2Tyx",
        "outputId": "1fbe70d4-09f5-4854-ab70-ff4b5b3ff01b"
      },
      "execution_count": 18,
      "outputs": [
        {
          "output_type": "execute_result",
          "data": {
            "text/plain": [
              "[1, 2, 3, 4]"
            ]
          },
          "metadata": {},
          "execution_count": 18
        }
      ]
    },
    {
      "cell_type": "code",
      "source": [
        "rz_ydline = []\n",
        "\n",
        "for ydline in range(1,21):\n",
        "  rz_ydline.append(ydline)\n",
        "\n",
        "rz_ydline"
      ],
      "metadata": {
        "colab": {
          "base_uri": "https://localhost:8080/"
        },
        "id": "v5J-LxrI2gXX",
        "outputId": "cbd7f7f6-a510-4327-b8f2-865916a03ad1"
      },
      "execution_count": 20,
      "outputs": [
        {
          "output_type": "execute_result",
          "data": {
            "text/plain": [
              "[1, 2, 3, 4, 5, 6, 7, 8, 9, 10, 11, 12, 13, 14, 15, 16, 17, 18, 19, 20]"
            ]
          },
          "metadata": {},
          "execution_count": 20
        }
      ]
    },
    {
      "cell_type": "code",
      "source": [
        "# Lsit Comprehension\n",
        "# Specific Order -> Expression FOR item IN deliverable\n",
        "rz_ydline = [ydline for ydline in range(1,21)]\n",
        "rz_ydline"
      ],
      "metadata": {
        "colab": {
          "base_uri": "https://localhost:8080/"
        },
        "id": "MdSKzyj53KH4",
        "outputId": "3df0717d-64a0-4c32-c119-e34bc4d0de61"
      },
      "execution_count": 21,
      "outputs": [
        {
          "output_type": "execute_result",
          "data": {
            "text/plain": [
              "[1, 2, 3, 4, 5, 6, 7, 8, 9, 10, 11, 12, 13, 14, 15, 16, 17, 18, 19, 20]"
            ]
          },
          "metadata": {},
          "execution_count": 21
        }
      ]
    },
    {
      "cell_type": "code",
      "source": [
        "players = [{\n",
        "    'name': 'Justin Jefferson',\n",
        "    'catches': 128,\n",
        "    'yds': 1809,\n",
        "    'td': 8\n",
        "}, {\n",
        "    'name': 'Tyreek Hill',\n",
        "    'catches': 119,\n",
        "    'yds': 1553,\n",
        "    'td': 11\n",
        "}]\n",
        "\n",
        "fantasy_points = []\n",
        "for player in players:\n",
        "    points_scored = player.get('catches', 0) + player.get('yds')*0.1 + player.get('td')*6\n",
        "    fantasy_points.append(points_scored)\n",
        "\n",
        "print(fantasy_points)\n",
        "print(sum(fantasy_points)/len(fantasy_points))"
      ],
      "metadata": {
        "colab": {
          "base_uri": "https://localhost:8080/"
        },
        "id": "Rtaa9f-b3tfc",
        "outputId": "8fcfea96-6d76-46b6-8352-f163e026e406"
      },
      "execution_count": 24,
      "outputs": [
        {
          "output_type": "stream",
          "name": "stdout",
          "text": [
            "[356.9, 340.3]\n",
            "348.6\n"
          ]
        }
      ]
    },
    {
      "cell_type": "code",
      "source": [
        "# Anonymous functions (Write function on fly without naming it)\n",
        "catches = [10, 15, 34, 23]\n",
        "\n",
        "def divide_by_two(x):\n",
        "    return x/2\n",
        "\n",
        "# Use MAP built in function instead of list comprehension\n",
        "half_ppr_values = map(divide_by_two, catches)\n",
        "half_ppr_values = list(half_ppr_values)\n",
        "\n",
        "print(half_ppr_values)"
      ],
      "metadata": {
        "colab": {
          "base_uri": "https://localhost:8080/"
        },
        "id": "rcHOlQwF49ep",
        "outputId": "9d040532-25b7-40e0-e7a4-4c98e35eccfe"
      },
      "execution_count": 25,
      "outputs": [
        {
          "output_type": "stream",
          "name": "stdout",
          "text": [
            "[5.0, 7.5, 17.0, 11.5]\n"
          ]
        }
      ]
    },
    {
      "cell_type": "code",
      "source": [
        "# Use lambda instead\n",
        "catches = [10, 15, 34, 23]\n",
        "\n",
        "\n",
        "half_ppr_values = map(lambda x: x/2, catches)\n",
        "half_ppr_values = list(half_ppr_values)\n",
        "\n",
        "# Need to convert to list bc we can't view Map item\n",
        "print(half_ppr_values)"
      ],
      "metadata": {
        "colab": {
          "base_uri": "https://localhost:8080/"
        },
        "id": "d7HLVgpZ5qjq",
        "outputId": "d6a4f0cf-db64-4502-cd52-1cd03f1cc7de"
      },
      "execution_count": 26,
      "outputs": [
        {
          "output_type": "stream",
          "name": "stdout",
          "text": [
            "[5.0, 7.5, 17.0, 11.5]\n"
          ]
        }
      ]
    },
    {
      "cell_type": "code",
      "source": [
        "# While Loops (will run until it evaluates to false)\n",
        "i = 0\n",
        "while i <= 6:\n",
        " print(i)\n",
        " i = i + 1"
      ],
      "metadata": {
        "colab": {
          "base_uri": "https://localhost:8080/"
        },
        "id": "vcBPDGEB6AOs",
        "outputId": "bc8fcd15-759f-4c69-ada0-10818a8f1ab9"
      },
      "execution_count": 28,
      "outputs": [
        {
          "output_type": "stream",
          "name": "stdout",
          "text": [
            "0\n",
            "1\n",
            "2\n",
            "3\n",
            "4\n",
            "5\n",
            "6\n"
          ]
        }
      ]
    },
    {
      "cell_type": "code",
      "source": [
        "# Zip method\n",
        "player_names = ['Christian McCaffrey', 'Austin Ekeler', 'Rhamondre Stevenson']\n",
        "receptions = [85, 107, 69]\n",
        "\n",
        "player_receptions = dict(zip(player_names, receptions))\n",
        "\n",
        "print(player_receptions)"
      ],
      "metadata": {
        "colab": {
          "base_uri": "https://localhost:8080/"
        },
        "id": "Md3LfRPB7Ui7",
        "outputId": "f5401214-bb38-4999-daeb-7f10868f1cea"
      },
      "execution_count": 29,
      "outputs": [
        {
          "output_type": "stream",
          "name": "stdout",
          "text": [
            "{'Christian McCaffrey': 85, 'Austin Ekeler': 107, 'Rhamondre Stevenson': 69}\n"
          ]
        }
      ]
    }
  ]
}